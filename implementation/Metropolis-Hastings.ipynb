{
 "cells": [
  {
   "cell_type": "markdown",
   "metadata": {},
   "source": [
    "# Metropolis-Hastings Sampler implementation in Julia"
   ]
  },
  {
   "cell_type": "markdown",
   "metadata": {},
   "source": [
    "The ***Metropolis-Hastings (MH)*** algorithm is used to generate random samples from a probability distribution from which direct sampling difficult. MH belongs to the family of Markov Chain Monte Carlo algorithms.\n",
    "\n",
    "### MH Sampling algorithm\n",
    "\n",
    "- Propose a random value using proposal distribution\n",
    "- Calculate acceptance probability based on the joint distribution\n",
    "- Accept or reject the proposal\n",
    "\n",
    "### Implementation of MH Algorithm step by step\n",
    "We can implement the central part of ***MH*** by considering a simple example. We want to generate random samples with <em>Normal</em> distribution with mean <em>0.0</em> and variance <em>1.0</em>\n",
    "\n",
    "### Initialization\n",
    "\n",
    "Initially, we have to define an array to store the accepted samples. Also, there will be a variable to store current and new proposals. If the new proposal is rejected, then the current proposal remains the same and will be added to the array containing the samples. If the proposal is accepted the current proposal is updated with the new proposal.\n"
   ]
  },
  {
   "cell_type": "code",
   "execution_count": 1,
   "metadata": {},
   "outputs": [],
   "source": [
    "itr = 1000; #number of samples required\n",
    "states = Array{Float64}(undef, itr); #generated samples\n",
    "current_proposal = 0.0;\n",
    "new_proposal = 0.0;"
   ]
  },
  {
   "cell_type": "markdown",
   "metadata": {},
   "source": [
    "### Define prior distribution\n",
    "From the question, it is clear that the prior distribution is Normal(0.0,1.0). In Julia, [Distributions.jl](https://github.com/JuliaStats/Distributions.jl) is available for defining distributions and calculation probability density function etc.\n",
    "\n",
    "So, we can define prior as below\n"
   ]
  },
  {
   "cell_type": "code",
   "execution_count": 2,
   "metadata": {},
   "outputs": [
    {
     "data": {
      "text/plain": [
       "Normal{Float64}(μ=0.0, σ=1.0)"
      ]
     },
     "execution_count": 2,
     "metadata": {},
     "output_type": "execute_result"
    }
   ],
   "source": [
    "using Distributions\n",
    "prior = Normal(0.0,1.0)"
   ]
  },
  {
   "cell_type": "markdown",
   "metadata": {},
   "source": [
    "### Define proposal distribution\n",
    "\n",
    "Every sampling iteration, the proposal is generated with a proposal distribution. It can be any distribution. In this example, we can define proposal distribution as a uniform distribution."
   ]
  },
  {
   "cell_type": "code",
   "execution_count": 3,
   "metadata": {},
   "outputs": [
    {
     "data": {
      "text/plain": [
       "1.0738115990921049"
      ]
     },
     "execution_count": 3,
     "metadata": {},
     "output_type": "execute_result"
    }
   ],
   "source": [
    "proposal = Uniform(-2.0,2.0)\n",
    "current_proposal = rand(proposal)"
   ]
  },
  {
   "cell_type": "markdown",
   "metadata": {},
   "source": [
    "The second line in the code generates a random value within the uniform distribution and set as the current proposal.\n",
    "\n",
    "### Repeat the following step for every iteration\n",
    "We have to generate proposal during every iteration based on proposal distribution and set as the new proposal and add current proposal into sample array for current iteration <em>i =1</em>."
   ]
  },
  {
   "cell_type": "code",
   "execution_count": 4,
   "metadata": {},
   "outputs": [
    {
     "data": {
      "text/plain": [
       "-1.1945990306107577"
      ]
     },
     "execution_count": 4,
     "metadata": {},
     "output_type": "execute_result"
    }
   ],
   "source": [
    "i = 1\n",
    "states[i] = current_proposal\n",
    "new_proposal = rand(proposal)"
   ]
  },
  {
   "cell_type": "markdown",
   "metadata": {},
   "source": [
    "### Calculate the ratio of the joint probability distributions of current and new proposal and likelihood distributions\n",
    "\n",
    "In this case, there is no likelihood distribution. We need to calculate the ratio of probability density functions of the current and previous proposal based on the prior distribution. Further, this ratio is used to calculate the acceptance probability."
   ]
  },
  {
   "cell_type": "code",
   "execution_count": 5,
   "metadata": {},
   "outputs": [
    {
     "data": {
      "text/plain": [
       "0.8719721908613778"
      ]
     },
     "execution_count": 5,
     "metadata": {},
     "output_type": "execute_result"
    }
   ],
   "source": [
    "ratio = pdf(prior,new_proposal)/ pdf(prior,current_proposal)\n",
    "acceptance_prob = min(1.0,ratio)"
   ]
  },
  {
   "cell_type": "markdown",
   "metadata": {},
   "source": [
    "### Accept or Reject\n",
    "The proposal will be accepted or rejected by comparing a random value between `0.0` and `1.0`. if the acceptance probability is greater than random value, the proposal will be accepted; else it will be rejected. If the proposal is accepted, the current proposal will be updated with the new proposal."
   ]
  },
  {
   "cell_type": "code",
   "execution_count": 6,
   "metadata": {},
   "outputs": [
    {
     "data": {
      "text/plain": [
       "-1.1945990306107577"
      ]
     },
     "execution_count": 6,
     "metadata": {},
     "output_type": "execute_result"
    }
   ],
   "source": [
    "r = rand(Uniform(0.0,1.0))\n",
    "if r < acceptance_prob\n",
    "    current_proposal = new_proposal\n",
    "end"
   ]
  },
  {
   "cell_type": "markdown",
   "metadata": {},
   "source": [
    "After finishing the sampling, the histogram of samples will be similar to prior."
   ]
  },
  {
   "cell_type": "markdown",
   "metadata": {},
   "source": [
    "### Complete program"
   ]
  },
  {
   "cell_type": "code",
   "execution_count": 7,
   "metadata": {},
   "outputs": [
    {
     "data": {
      "image/svg+xml": [
       "<?xml version=\"1.0\" encoding=\"utf-8\"?>\n",
       "<svg xmlns=\"http://www.w3.org/2000/svg\" xmlns:xlink=\"http://www.w3.org/1999/xlink\" width=\"600\" height=\"400\" viewBox=\"0 0 2400 1600\">\n",
       "<defs>\n",
       "  <clipPath id=\"clip370\">\n",
       "    <rect x=\"0\" y=\"0\" width=\"2400\" height=\"1600\"/>\n",
       "  </clipPath>\n",
       "</defs>\n",
       "<path clip-path=\"url(#clip370)\" d=\"\n",
       "M0 1600 L2400 1600 L2400 0 L0 0  Z\n",
       "  \" fill=\"#ffffff\" fill-rule=\"evenodd\" fill-opacity=\"1\"/>\n",
       "<defs>\n",
       "  <clipPath id=\"clip371\">\n",
       "    <rect x=\"480\" y=\"0\" width=\"1681\" height=\"1600\"/>\n",
       "  </clipPath>\n",
       "</defs>\n",
       "<path clip-path=\"url(#clip370)\" d=\"\n",
       "M166.205 1486.45 L2352.76 1486.45 L2352.76 47.2441 L166.205 47.2441  Z\n",
       "  \" fill=\"#ffffff\" fill-rule=\"evenodd\" fill-opacity=\"1\"/>\n",
       "<defs>\n",
       "  <clipPath id=\"clip372\">\n",
       "    <rect x=\"166\" y=\"47\" width=\"2188\" height=\"1440\"/>\n",
       "  </clipPath>\n",
       "</defs>\n",
       "<polyline clip-path=\"url(#clip372)\" style=\"stroke:#000000; stroke-width:2; stroke-opacity:0.1; fill:none\" points=\"\n",
       "  286.469,1486.45 286.469,47.2441 \n",
       "  \"/>\n",
       "<polyline clip-path=\"url(#clip372)\" style=\"stroke:#000000; stroke-width:2; stroke-opacity:0.1; fill:none\" points=\"\n",
       "  772.975,1486.45 772.975,47.2441 \n",
       "  \"/>\n",
       "<polyline clip-path=\"url(#clip372)\" style=\"stroke:#000000; stroke-width:2; stroke-opacity:0.1; fill:none\" points=\"\n",
       "  1259.48,1486.45 1259.48,47.2441 \n",
       "  \"/>\n",
       "<polyline clip-path=\"url(#clip372)\" style=\"stroke:#000000; stroke-width:2; stroke-opacity:0.1; fill:none\" points=\"\n",
       "  1745.99,1486.45 1745.99,47.2441 \n",
       "  \"/>\n",
       "<polyline clip-path=\"url(#clip372)\" style=\"stroke:#000000; stroke-width:2; stroke-opacity:0.1; fill:none\" points=\"\n",
       "  2232.49,1486.45 2232.49,47.2441 \n",
       "  \"/>\n",
       "<polyline clip-path=\"url(#clip370)\" style=\"stroke:#000000; stroke-width:4; stroke-opacity:1; fill:none\" points=\"\n",
       "  166.205,1486.45 2352.76,1486.45 \n",
       "  \"/>\n",
       "<polyline clip-path=\"url(#clip370)\" style=\"stroke:#000000; stroke-width:4; stroke-opacity:1; fill:none\" points=\"\n",
       "  286.469,1486.45 286.469,1469.18 \n",
       "  \"/>\n",
       "<polyline clip-path=\"url(#clip370)\" style=\"stroke:#000000; stroke-width:4; stroke-opacity:1; fill:none\" points=\"\n",
       "  772.975,1486.45 772.975,1469.18 \n",
       "  \"/>\n",
       "<polyline clip-path=\"url(#clip370)\" style=\"stroke:#000000; stroke-width:4; stroke-opacity:1; fill:none\" points=\"\n",
       "  1259.48,1486.45 1259.48,1469.18 \n",
       "  \"/>\n",
       "<polyline clip-path=\"url(#clip370)\" style=\"stroke:#000000; stroke-width:4; stroke-opacity:1; fill:none\" points=\"\n",
       "  1745.99,1486.45 1745.99,1469.18 \n",
       "  \"/>\n",
       "<polyline clip-path=\"url(#clip370)\" style=\"stroke:#000000; stroke-width:4; stroke-opacity:1; fill:none\" points=\"\n",
       "  2232.49,1486.45 2232.49,1469.18 \n",
       "  \"/>\n",
       "<path clip-path=\"url(#clip370)\" d=\"M 0 0 M258.923 1530.29 L288.598 1530.29 L288.598 1534.23 L258.923 1534.23 L258.923 1530.29 Z\" fill=\"#000000\" fill-rule=\"evenodd\" fill-opacity=\"1\" /><path clip-path=\"url(#clip370)\" d=\"M 0 0 M297.696 1543.18 L314.015 1543.18 L314.015 1547.12 L292.071 1547.12 L292.071 1543.18 Q294.733 1540.43 299.316 1535.8 Q303.922 1531.15 305.103 1529.81 Q307.348 1527.28 308.228 1525.55 Q309.131 1523.79 309.131 1522.1 Q309.131 1519.34 307.186 1517.61 Q305.265 1515.87 302.163 1515.87 Q299.964 1515.87 297.51 1516.63 Q295.08 1517.4 292.302 1518.95 L292.302 1514.23 Q295.126 1513.09 297.58 1512.51 Q300.034 1511.93 302.071 1511.93 Q307.441 1511.93 310.635 1514.62 Q313.83 1517.31 313.83 1521.8 Q313.83 1523.93 313.02 1525.85 Q312.233 1527.74 310.126 1530.34 Q309.547 1531.01 306.446 1534.23 Q303.344 1537.42 297.696 1543.18 Z\" fill=\"#000000\" fill-rule=\"evenodd\" fill-opacity=\"1\" /><path clip-path=\"url(#clip370)\" d=\"M 0 0 M745.243 1530.29 L774.919 1530.29 L774.919 1534.23 L745.243 1534.23 L745.243 1530.29 Z\" fill=\"#000000\" fill-rule=\"evenodd\" fill-opacity=\"1\" /><path clip-path=\"url(#clip370)\" d=\"M 0 0 M780.799 1543.18 L788.437 1543.18 L788.437 1516.82 L780.127 1518.49 L780.127 1514.23 L788.391 1512.56 L793.067 1512.56 L793.067 1543.18 L800.706 1543.18 L800.706 1547.12 L780.799 1547.12 L780.799 1543.18 Z\" fill=\"#000000\" fill-rule=\"evenodd\" fill-opacity=\"1\" /><path clip-path=\"url(#clip370)\" d=\"M 0 0 M1259.48 1515.64 Q1255.87 1515.64 1254.04 1519.2 Q1252.23 1522.75 1252.23 1529.87 Q1252.23 1536.98 1254.04 1540.55 Q1255.87 1544.09 1259.48 1544.09 Q1263.11 1544.09 1264.92 1540.55 Q1266.75 1536.98 1266.75 1529.87 Q1266.75 1522.75 1264.92 1519.2 Q1263.11 1515.64 1259.48 1515.64 M1259.48 1511.93 Q1265.29 1511.93 1268.35 1516.54 Q1271.42 1521.12 1271.42 1529.87 Q1271.42 1538.6 1268.35 1543.21 Q1265.29 1547.79 1259.48 1547.79 Q1253.67 1547.79 1250.59 1543.21 Q1247.54 1538.6 1247.54 1529.87 Q1247.54 1521.12 1250.59 1516.54 Q1253.67 1511.93 1259.48 1511.93 Z\" fill=\"#000000\" fill-rule=\"evenodd\" fill-opacity=\"1\" /><path clip-path=\"url(#clip370)\" d=\"M 0 0 M1736.37 1543.18 L1744.01 1543.18 L1744.01 1516.82 L1735.7 1518.49 L1735.7 1514.23 L1743.96 1512.56 L1748.64 1512.56 L1748.64 1543.18 L1756.28 1543.18 L1756.28 1547.12 L1736.37 1547.12 L1736.37 1543.18 Z\" fill=\"#000000\" fill-rule=\"evenodd\" fill-opacity=\"1\" /><path clip-path=\"url(#clip370)\" d=\"M 0 0 M2227.14 1543.18 L2243.46 1543.18 L2243.46 1547.12 L2221.52 1547.12 L2221.52 1543.18 Q2224.18 1540.43 2228.76 1535.8 Q2233.37 1531.15 2234.55 1529.81 Q2236.8 1527.28 2237.68 1525.55 Q2238.58 1523.79 2238.58 1522.1 Q2238.58 1519.34 2236.64 1517.61 Q2234.71 1515.87 2231.61 1515.87 Q2229.41 1515.87 2226.96 1516.63 Q2224.53 1517.4 2221.75 1518.95 L2221.75 1514.23 Q2224.58 1513.09 2227.03 1512.51 Q2229.48 1511.93 2231.52 1511.93 Q2236.89 1511.93 2240.08 1514.62 Q2243.28 1517.31 2243.28 1521.8 Q2243.28 1523.93 2242.47 1525.85 Q2241.68 1527.74 2239.57 1530.34 Q2239 1531.01 2235.89 1534.23 Q2232.79 1537.42 2227.14 1543.18 Z\" fill=\"#000000\" fill-rule=\"evenodd\" fill-opacity=\"1\" /><polyline clip-path=\"url(#clip372)\" style=\"stroke:#000000; stroke-width:2; stroke-opacity:0.1; fill:none\" points=\"\n",
       "  166.205,1445.72 2352.76,1445.72 \n",
       "  \"/>\n",
       "<polyline clip-path=\"url(#clip372)\" style=\"stroke:#000000; stroke-width:2; stroke-opacity:0.1; fill:none\" points=\"\n",
       "  166.205,1130.69 2352.76,1130.69 \n",
       "  \"/>\n",
       "<polyline clip-path=\"url(#clip372)\" style=\"stroke:#000000; stroke-width:2; stroke-opacity:0.1; fill:none\" points=\"\n",
       "  166.205,815.674 2352.76,815.674 \n",
       "  \"/>\n",
       "<polyline clip-path=\"url(#clip372)\" style=\"stroke:#000000; stroke-width:2; stroke-opacity:0.1; fill:none\" points=\"\n",
       "  166.205,500.653 2352.76,500.653 \n",
       "  \"/>\n",
       "<polyline clip-path=\"url(#clip372)\" style=\"stroke:#000000; stroke-width:2; stroke-opacity:0.1; fill:none\" points=\"\n",
       "  166.205,185.633 2352.76,185.633 \n",
       "  \"/>\n",
       "<polyline clip-path=\"url(#clip370)\" style=\"stroke:#000000; stroke-width:4; stroke-opacity:1; fill:none\" points=\"\n",
       "  166.205,1486.45 166.205,47.2441 \n",
       "  \"/>\n",
       "<polyline clip-path=\"url(#clip370)\" style=\"stroke:#000000; stroke-width:4; stroke-opacity:1; fill:none\" points=\"\n",
       "  166.205,1445.72 192.443,1445.72 \n",
       "  \"/>\n",
       "<polyline clip-path=\"url(#clip370)\" style=\"stroke:#000000; stroke-width:4; stroke-opacity:1; fill:none\" points=\"\n",
       "  166.205,1130.69 192.443,1130.69 \n",
       "  \"/>\n",
       "<polyline clip-path=\"url(#clip370)\" style=\"stroke:#000000; stroke-width:4; stroke-opacity:1; fill:none\" points=\"\n",
       "  166.205,815.674 192.443,815.674 \n",
       "  \"/>\n",
       "<polyline clip-path=\"url(#clip370)\" style=\"stroke:#000000; stroke-width:4; stroke-opacity:1; fill:none\" points=\"\n",
       "  166.205,500.653 192.443,500.653 \n",
       "  \"/>\n",
       "<polyline clip-path=\"url(#clip370)\" style=\"stroke:#000000; stroke-width:4; stroke-opacity:1; fill:none\" points=\"\n",
       "  166.205,185.633 192.443,185.633 \n",
       "  \"/>\n",
       "<path clip-path=\"url(#clip370)\" d=\"M 0 0 M118.26 1431.51 Q114.649 1431.51 112.82 1435.08 Q111.015 1438.62 111.015 1445.75 Q111.015 1452.86 112.82 1456.42 Q114.649 1459.96 118.26 1459.96 Q121.895 1459.96 123.7 1456.42 Q125.529 1452.86 125.529 1445.75 Q125.529 1438.62 123.7 1435.08 Q121.895 1431.51 118.26 1431.51 M118.26 1427.81 Q124.07 1427.81 127.126 1432.42 Q130.205 1437 130.205 1445.75 Q130.205 1454.48 127.126 1459.08 Q124.07 1463.67 118.26 1463.67 Q112.45 1463.67 109.371 1459.08 Q106.316 1454.48 106.316 1445.75 Q106.316 1437 109.371 1432.42 Q112.45 1427.81 118.26 1427.81 Z\" fill=\"#000000\" fill-rule=\"evenodd\" fill-opacity=\"1\" /><path clip-path=\"url(#clip370)\" d=\"M 0 0 M59.8578 1144.04 L76.1772 1144.04 L76.1772 1147.97 L54.2328 1147.97 L54.2328 1144.04 Q56.8949 1141.29 61.4782 1136.66 Q66.0846 1132 67.2652 1130.66 Q69.5105 1128.14 70.3902 1126.4 Q71.2929 1124.64 71.2929 1122.95 Q71.2929 1120.2 69.3485 1118.46 Q67.4272 1116.73 64.3254 1116.73 Q62.1263 1116.73 59.6726 1117.49 Q57.2421 1118.25 54.4643 1119.8 L54.4643 1115.08 Q57.2884 1113.95 59.7421 1113.37 Q62.1958 1112.79 64.2328 1112.79 Q69.6031 1112.79 72.7976 1115.48 Q75.992 1118.16 75.992 1122.65 Q75.992 1124.78 75.1818 1126.7 Q74.3948 1128.6 72.2883 1131.19 Q71.7096 1131.86 68.6078 1135.08 Q65.5059 1138.28 59.8578 1144.04 Z\" fill=\"#000000\" fill-rule=\"evenodd\" fill-opacity=\"1\" /><path clip-path=\"url(#clip370)\" d=\"M 0 0 M91.2465 1116.49 Q87.6354 1116.49 85.8068 1120.06 Q84.0012 1123.6 84.0012 1130.73 Q84.0012 1137.84 85.8068 1141.4 Q87.6354 1144.94 91.2465 1144.94 Q94.8808 1144.94 96.6863 1141.4 Q98.515 1137.84 98.515 1130.73 Q98.515 1123.6 96.6863 1120.06 Q94.8808 1116.49 91.2465 1116.49 M91.2465 1112.79 Q97.0567 1112.79 100.112 1117.4 Q103.191 1121.98 103.191 1130.73 Q103.191 1139.46 100.112 1144.06 Q97.0567 1148.65 91.2465 1148.65 Q85.4364 1148.65 82.3577 1144.06 Q79.3022 1139.46 79.3022 1130.73 Q79.3022 1121.98 82.3577 1117.4 Q85.4364 1112.79 91.2465 1112.79 Z\" fill=\"#000000\" fill-rule=\"evenodd\" fill-opacity=\"1\" /><path clip-path=\"url(#clip370)\" d=\"M 0 0 M118.26 1116.49 Q114.649 1116.49 112.82 1120.06 Q111.015 1123.6 111.015 1130.73 Q111.015 1137.84 112.82 1141.4 Q114.649 1144.94 118.26 1144.94 Q121.895 1144.94 123.7 1141.4 Q125.529 1137.84 125.529 1130.73 Q125.529 1123.6 123.7 1120.06 Q121.895 1116.49 118.26 1116.49 M118.26 1112.79 Q124.07 1112.79 127.126 1117.4 Q130.205 1121.98 130.205 1130.73 Q130.205 1139.46 127.126 1144.06 Q124.07 1148.65 118.26 1148.65 Q112.45 1148.65 109.371 1144.06 Q106.316 1139.46 106.316 1130.73 Q106.316 1121.98 109.371 1117.4 Q112.45 1112.79 118.26 1112.79 Z\" fill=\"#000000\" fill-rule=\"evenodd\" fill-opacity=\"1\" /><path clip-path=\"url(#clip370)\" d=\"M 0 0 M66.5939 802.468 L54.7884 820.917 L66.5939 820.917 L66.5939 802.468 M65.367 798.394 L71.2466 798.394 L71.2466 820.917 L76.1772 820.917 L76.1772 824.806 L71.2466 824.806 L71.2466 832.954 L66.5939 832.954 L66.5939 824.806 L50.9921 824.806 L50.9921 820.292 L65.367 798.394 Z\" fill=\"#000000\" fill-rule=\"evenodd\" fill-opacity=\"1\" /><path clip-path=\"url(#clip370)\" d=\"M 0 0 M91.2465 801.473 Q87.6354 801.473 85.8068 805.038 Q84.0012 808.579 84.0012 815.709 Q84.0012 822.815 85.8068 826.38 Q87.6354 829.922 91.2465 829.922 Q94.8808 829.922 96.6863 826.38 Q98.515 822.815 98.515 815.709 Q98.515 808.579 96.6863 805.038 Q94.8808 801.473 91.2465 801.473 M91.2465 797.769 Q97.0567 797.769 100.112 802.376 Q103.191 806.959 103.191 815.709 Q103.191 824.436 100.112 829.042 Q97.0567 833.625 91.2465 833.625 Q85.4364 833.625 82.3577 829.042 Q79.3022 824.436 79.3022 815.709 Q79.3022 806.959 82.3577 802.376 Q85.4364 797.769 91.2465 797.769 Z\" fill=\"#000000\" fill-rule=\"evenodd\" fill-opacity=\"1\" /><path clip-path=\"url(#clip370)\" d=\"M 0 0 M118.26 801.473 Q114.649 801.473 112.82 805.038 Q111.015 808.579 111.015 815.709 Q111.015 822.815 112.82 826.38 Q114.649 829.922 118.26 829.922 Q121.895 829.922 123.7 826.38 Q125.529 822.815 125.529 815.709 Q125.529 808.579 123.7 805.038 Q121.895 801.473 118.26 801.473 M118.26 797.769 Q124.07 797.769 127.126 802.376 Q130.205 806.959 130.205 815.709 Q130.205 824.436 127.126 829.042 Q124.07 833.625 118.26 833.625 Q112.45 833.625 109.371 829.042 Q106.316 824.436 106.316 815.709 Q106.316 806.959 109.371 802.376 Q112.45 797.769 118.26 797.769 Z\" fill=\"#000000\" fill-rule=\"evenodd\" fill-opacity=\"1\" /><path clip-path=\"url(#clip370)\" d=\"M 0 0 M64.6495 498.79 Q61.5013 498.79 59.6495 500.943 Q57.8208 503.096 57.8208 506.846 Q57.8208 510.572 59.6495 512.748 Q61.5013 514.901 64.6495 514.901 Q67.7976 514.901 69.6263 512.748 Q71.4781 510.572 71.4781 506.846 Q71.4781 503.096 69.6263 500.943 Q67.7976 498.79 64.6495 498.79 M73.9318 484.137 L73.9318 488.397 Q72.1726 487.563 70.367 487.123 Q68.5846 486.684 66.8254 486.684 Q62.1958 486.684 59.7421 489.809 Q57.3115 492.934 56.9643 499.253 Q58.33 497.239 60.3902 496.174 Q62.4504 495.086 64.9272 495.086 Q70.1355 495.086 73.1448 498.258 Q76.1772 501.406 76.1772 506.846 Q76.1772 512.17 73.029 515.387 Q69.8809 518.605 64.6495 518.605 Q58.6541 518.605 55.4828 514.021 Q52.3116 509.415 52.3116 500.688 Q52.3116 492.494 56.2004 487.633 Q60.0893 482.748 66.6402 482.748 Q68.3994 482.748 70.1818 483.096 Q71.9874 483.443 73.9318 484.137 Z\" fill=\"#000000\" fill-rule=\"evenodd\" fill-opacity=\"1\" /><path clip-path=\"url(#clip370)\" d=\"M 0 0 M91.2465 486.452 Q87.6354 486.452 85.8068 490.017 Q84.0012 493.559 84.0012 500.688 Q84.0012 507.795 85.8068 511.359 Q87.6354 514.901 91.2465 514.901 Q94.8808 514.901 96.6863 511.359 Q98.515 507.795 98.515 500.688 Q98.515 493.559 96.6863 490.017 Q94.8808 486.452 91.2465 486.452 M91.2465 482.748 Q97.0567 482.748 100.112 487.355 Q103.191 491.938 103.191 500.688 Q103.191 509.415 100.112 514.021 Q97.0567 518.605 91.2465 518.605 Q85.4364 518.605 82.3577 514.021 Q79.3022 509.415 79.3022 500.688 Q79.3022 491.938 82.3577 487.355 Q85.4364 482.748 91.2465 482.748 Z\" fill=\"#000000\" fill-rule=\"evenodd\" fill-opacity=\"1\" /><path clip-path=\"url(#clip370)\" d=\"M 0 0 M118.26 486.452 Q114.649 486.452 112.82 490.017 Q111.015 493.559 111.015 500.688 Q111.015 507.795 112.82 511.359 Q114.649 514.901 118.26 514.901 Q121.895 514.901 123.7 511.359 Q125.529 507.795 125.529 500.688 Q125.529 493.559 123.7 490.017 Q121.895 486.452 118.26 486.452 M118.26 482.748 Q124.07 482.748 127.126 487.355 Q130.205 491.938 130.205 500.688 Q130.205 509.415 127.126 514.021 Q124.07 518.605 118.26 518.605 Q112.45 518.605 109.371 514.021 Q106.316 509.415 106.316 500.688 Q106.316 491.938 109.371 487.355 Q112.45 482.748 118.26 482.748 Z\" fill=\"#000000\" fill-rule=\"evenodd\" fill-opacity=\"1\" /><path clip-path=\"url(#clip370)\" d=\"M 0 0 M64.3254 186.501 Q60.9921 186.501 59.0708 188.283 Q57.1726 190.066 57.1726 193.191 Q57.1726 196.316 59.0708 198.098 Q60.9921 199.88 64.3254 199.88 Q67.6587 199.88 69.58 198.098 Q71.5013 196.292 71.5013 193.191 Q71.5013 190.066 69.58 188.283 Q67.6819 186.501 64.3254 186.501 M59.6495 184.51 Q56.6402 183.769 54.9504 181.709 Q53.2838 179.649 53.2838 176.686 Q53.2838 172.543 56.2236 170.135 Q59.1865 167.728 64.3254 167.728 Q69.4874 167.728 72.4272 170.135 Q75.367 172.543 75.367 176.686 Q75.367 179.649 73.6772 181.709 Q72.0105 183.769 69.0244 184.51 Q72.404 185.297 74.279 187.589 Q76.1772 189.88 76.1772 193.191 Q76.1772 198.214 73.0985 200.899 Q70.0429 203.584 64.3254 203.584 Q58.6078 203.584 55.5291 200.899 Q52.4736 198.214 52.4736 193.191 Q52.4736 189.88 54.3717 187.589 Q56.2699 185.297 59.6495 184.51 M57.9365 177.126 Q57.9365 179.811 59.6032 181.316 Q61.293 182.82 64.3254 182.82 Q67.3346 182.82 69.0244 181.316 Q70.7374 179.811 70.7374 177.126 Q70.7374 174.441 69.0244 172.936 Q67.3346 171.431 64.3254 171.431 Q61.293 171.431 59.6032 172.936 Q57.9365 174.441 57.9365 177.126 Z\" fill=\"#000000\" fill-rule=\"evenodd\" fill-opacity=\"1\" /><path clip-path=\"url(#clip370)\" d=\"M 0 0 M91.2465 171.431 Q87.6354 171.431 85.8068 174.996 Q84.0012 178.538 84.0012 185.667 Q84.0012 192.774 85.8068 196.339 Q87.6354 199.88 91.2465 199.88 Q94.8808 199.88 96.6863 196.339 Q98.515 192.774 98.515 185.667 Q98.515 178.538 96.6863 174.996 Q94.8808 171.431 91.2465 171.431 M91.2465 167.728 Q97.0567 167.728 100.112 172.334 Q103.191 176.917 103.191 185.667 Q103.191 194.394 100.112 199.001 Q97.0567 203.584 91.2465 203.584 Q85.4364 203.584 82.3577 199.001 Q79.3022 194.394 79.3022 185.667 Q79.3022 176.917 82.3577 172.334 Q85.4364 167.728 91.2465 167.728 Z\" fill=\"#000000\" fill-rule=\"evenodd\" fill-opacity=\"1\" /><path clip-path=\"url(#clip370)\" d=\"M 0 0 M118.26 171.431 Q114.649 171.431 112.82 174.996 Q111.015 178.538 111.015 185.667 Q111.015 192.774 112.82 196.339 Q114.649 199.88 118.26 199.88 Q121.895 199.88 123.7 196.339 Q125.529 192.774 125.529 185.667 Q125.529 178.538 123.7 174.996 Q121.895 171.431 118.26 171.431 M118.26 167.728 Q124.07 167.728 127.126 172.334 Q130.205 176.917 130.205 185.667 Q130.205 194.394 127.126 199.001 Q124.07 203.584 118.26 203.584 Q112.45 203.584 109.371 199.001 Q106.316 194.394 106.316 185.667 Q106.316 176.917 109.371 172.334 Q112.45 167.728 118.26 167.728 Z\" fill=\"#000000\" fill-rule=\"evenodd\" fill-opacity=\"1\" /><path clip-path=\"url(#clip372)\" d=\"\n",
       "M286.469 1229.93 L286.469 1445.72 L383.77 1445.72 L383.77 1229.93 L286.469 1229.93 L286.469 1229.93  Z\n",
       "  \" fill=\"#009af9\" fill-rule=\"evenodd\" fill-opacity=\"1\"/>\n",
       "<polyline clip-path=\"url(#clip372)\" style=\"stroke:#000000; stroke-width:4; stroke-opacity:1; fill:none\" points=\"\n",
       "  286.469,1229.93 286.469,1445.72 383.77,1445.72 383.77,1229.93 286.469,1229.93 \n",
       "  \"/>\n",
       "<path clip-path=\"url(#clip372)\" d=\"\n",
       "M383.77 1118.09 L383.77 1445.72 L481.071 1445.72 L481.071 1118.09 L383.77 1118.09 L383.77 1118.09  Z\n",
       "  \" fill=\"#009af9\" fill-rule=\"evenodd\" fill-opacity=\"1\"/>\n",
       "<polyline clip-path=\"url(#clip372)\" style=\"stroke:#000000; stroke-width:4; stroke-opacity:1; fill:none\" points=\"\n",
       "  383.77,1118.09 383.77,1445.72 481.071,1445.72 481.071,1118.09 383.77,1118.09 \n",
       "  \"/>\n",
       "<path clip-path=\"url(#clip372)\" d=\"\n",
       "M481.071 1067.69 L481.071 1445.72 L578.372 1445.72 L578.372 1067.69 L481.071 1067.69 L481.071 1067.69  Z\n",
       "  \" fill=\"#009af9\" fill-rule=\"evenodd\" fill-opacity=\"1\"/>\n",
       "<polyline clip-path=\"url(#clip372)\" style=\"stroke:#000000; stroke-width:4; stroke-opacity:1; fill:none\" points=\"\n",
       "  481.071,1067.69 481.071,1445.72 578.372,1445.72 578.372,1067.69 481.071,1067.69 \n",
       "  \"/>\n",
       "<path clip-path=\"url(#clip372)\" d=\"\n",
       "M578.372 932.232 L578.372 1445.72 L675.673 1445.72 L675.673 932.232 L578.372 932.232 L578.372 932.232  Z\n",
       "  \" fill=\"#009af9\" fill-rule=\"evenodd\" fill-opacity=\"1\"/>\n",
       "<polyline clip-path=\"url(#clip372)\" style=\"stroke:#000000; stroke-width:4; stroke-opacity:1; fill:none\" points=\"\n",
       "  578.372,932.232 578.372,1445.72 675.673,1445.72 675.673,932.232 578.372,932.232 \n",
       "  \"/>\n",
       "<path clip-path=\"url(#clip372)\" d=\"\n",
       "M675.673 746.37 L675.673 1445.72 L772.975 1445.72 L772.975 746.37 L675.673 746.37 L675.673 746.37  Z\n",
       "  \" fill=\"#009af9\" fill-rule=\"evenodd\" fill-opacity=\"1\"/>\n",
       "<polyline clip-path=\"url(#clip372)\" style=\"stroke:#000000; stroke-width:4; stroke-opacity:1; fill:none\" points=\"\n",
       "  675.673,746.37 675.673,1445.72 772.975,1445.72 772.975,746.37 675.673,746.37 \n",
       "  \"/>\n",
       "<path clip-path=\"url(#clip372)\" d=\"\n",
       "M772.975 508.529 L772.975 1445.72 L870.276 1445.72 L870.276 508.529 L772.975 508.529 L772.975 508.529  Z\n",
       "  \" fill=\"#009af9\" fill-rule=\"evenodd\" fill-opacity=\"1\"/>\n",
       "<polyline clip-path=\"url(#clip372)\" style=\"stroke:#000000; stroke-width:4; stroke-opacity:1; fill:none\" points=\"\n",
       "  772.975,508.529 772.975,1445.72 870.276,1445.72 870.276,508.529 772.975,508.529 \n",
       "  \"/>\n",
       "<path clip-path=\"url(#clip372)\" d=\"\n",
       "M870.276 421.898 L870.276 1445.72 L967.577 1445.72 L967.577 421.898 L870.276 421.898 L870.276 421.898  Z\n",
       "  \" fill=\"#009af9\" fill-rule=\"evenodd\" fill-opacity=\"1\"/>\n",
       "<polyline clip-path=\"url(#clip372)\" style=\"stroke:#000000; stroke-width:4; stroke-opacity:1; fill:none\" points=\"\n",
       "  870.276,421.898 870.276,1445.72 967.577,1445.72 967.577,421.898 870.276,421.898 \n",
       "  \"/>\n",
       "<path clip-path=\"url(#clip372)\" d=\"\n",
       "M967.577 275.414 L967.577 1445.72 L1064.88 1445.72 L1064.88 275.414 L967.577 275.414 L967.577 275.414  Z\n",
       "  \" fill=\"#009af9\" fill-rule=\"evenodd\" fill-opacity=\"1\"/>\n",
       "<polyline clip-path=\"url(#clip372)\" style=\"stroke:#000000; stroke-width:4; stroke-opacity:1; fill:none\" points=\"\n",
       "  967.577,275.414 967.577,1445.72 1064.88,1445.72 1064.88,275.414 967.577,275.414 \n",
       "  \"/>\n",
       "<path clip-path=\"url(#clip372)\" d=\"\n",
       "M1064.88 87.9763 L1064.88 1445.72 L1162.18 1445.72 L1162.18 87.9763 L1064.88 87.9763 L1064.88 87.9763  Z\n",
       "  \" fill=\"#009af9\" fill-rule=\"evenodd\" fill-opacity=\"1\"/>\n",
       "<polyline clip-path=\"url(#clip372)\" style=\"stroke:#000000; stroke-width:4; stroke-opacity:1; fill:none\" points=\"\n",
       "  1064.88,87.9763 1064.88,1445.72 1162.18,1445.72 1162.18,87.9763 1064.88,87.9763 \n",
       "  \"/>\n",
       "<path clip-path=\"url(#clip372)\" d=\"\n",
       "M1162.18 97.4269 L1162.18 1445.72 L1259.48 1445.72 L1259.48 97.4269 L1162.18 97.4269 L1162.18 97.4269  Z\n",
       "  \" fill=\"#009af9\" fill-rule=\"evenodd\" fill-opacity=\"1\"/>\n",
       "<polyline clip-path=\"url(#clip372)\" style=\"stroke:#000000; stroke-width:4; stroke-opacity:1; fill:none\" points=\"\n",
       "  1162.18,97.4269 1162.18,1445.72 1259.48,1445.72 1259.48,97.4269 1162.18,97.4269 \n",
       "  \"/>\n",
       "<path clip-path=\"url(#clip372)\" d=\"\n",
       "M1259.48 270.688 L1259.48 1445.72 L1356.78 1445.72 L1356.78 270.688 L1259.48 270.688 L1259.48 270.688  Z\n",
       "  \" fill=\"#009af9\" fill-rule=\"evenodd\" fill-opacity=\"1\"/>\n",
       "<polyline clip-path=\"url(#clip372)\" style=\"stroke:#000000; stroke-width:4; stroke-opacity:1; fill:none\" points=\"\n",
       "  1259.48,270.688 1259.48,1445.72 1356.78,1445.72 1356.78,270.688 1259.48,270.688 \n",
       "  \"/>\n",
       "<path clip-path=\"url(#clip372)\" d=\"\n",
       "M1356.78 163.581 L1356.78 1445.72 L1454.08 1445.72 L1454.08 163.581 L1356.78 163.581 L1356.78 163.581  Z\n",
       "  \" fill=\"#009af9\" fill-rule=\"evenodd\" fill-opacity=\"1\"/>\n",
       "<polyline clip-path=\"url(#clip372)\" style=\"stroke:#000000; stroke-width:4; stroke-opacity:1; fill:none\" points=\"\n",
       "  1356.78,163.581 1356.78,1445.72 1454.08,1445.72 1454.08,163.581 1356.78,163.581 \n",
       "  \"/>\n",
       "<path clip-path=\"url(#clip372)\" d=\"\n",
       "M1454.08 155.706 L1454.08 1445.72 L1551.38 1445.72 L1551.38 155.706 L1454.08 155.706 L1454.08 155.706  Z\n",
       "  \" fill=\"#009af9\" fill-rule=\"evenodd\" fill-opacity=\"1\"/>\n",
       "<polyline clip-path=\"url(#clip372)\" style=\"stroke:#000000; stroke-width:4; stroke-opacity:1; fill:none\" points=\"\n",
       "  1454.08,155.706 1454.08,1445.72 1551.38,1445.72 1551.38,155.706 1454.08,155.706 \n",
       "  \"/>\n",
       "<path clip-path=\"url(#clip372)\" d=\"\n",
       "M1551.38 420.323 L1551.38 1445.72 L1648.68 1445.72 L1648.68 420.323 L1551.38 420.323 L1551.38 420.323  Z\n",
       "  \" fill=\"#009af9\" fill-rule=\"evenodd\" fill-opacity=\"1\"/>\n",
       "<polyline clip-path=\"url(#clip372)\" style=\"stroke:#000000; stroke-width:4; stroke-opacity:1; fill:none\" points=\"\n",
       "  1551.38,420.323 1551.38,1445.72 1648.68,1445.72 1648.68,420.323 1551.38,420.323 \n",
       "  \"/>\n",
       "<path clip-path=\"url(#clip372)\" d=\"\n",
       "M1648.68 484.902 L1648.68 1445.72 L1745.99 1445.72 L1745.99 484.902 L1648.68 484.902 L1648.68 484.902  Z\n",
       "  \" fill=\"#009af9\" fill-rule=\"evenodd\" fill-opacity=\"1\"/>\n",
       "<polyline clip-path=\"url(#clip372)\" style=\"stroke:#000000; stroke-width:4; stroke-opacity:1; fill:none\" points=\"\n",
       "  1648.68,484.902 1648.68,1445.72 1745.99,1445.72 1745.99,484.902 1648.68,484.902 \n",
       "  \"/>\n",
       "<path clip-path=\"url(#clip372)\" d=\"\n",
       "M1745.99 814.099 L1745.99 1445.72 L1843.29 1445.72 L1843.29 814.099 L1745.99 814.099 L1745.99 814.099  Z\n",
       "  \" fill=\"#009af9\" fill-rule=\"evenodd\" fill-opacity=\"1\"/>\n",
       "<polyline clip-path=\"url(#clip372)\" style=\"stroke:#000000; stroke-width:4; stroke-opacity:1; fill:none\" points=\"\n",
       "  1745.99,814.099 1745.99,1445.72 1843.29,1445.72 1843.29,814.099 1745.99,814.099 \n",
       "  \"/>\n",
       "<path clip-path=\"url(#clip372)\" d=\"\n",
       "M1843.29 914.906 L1843.29 1445.72 L1940.59 1445.72 L1940.59 914.906 L1843.29 914.906 L1843.29 914.906  Z\n",
       "  \" fill=\"#009af9\" fill-rule=\"evenodd\" fill-opacity=\"1\"/>\n",
       "<polyline clip-path=\"url(#clip372)\" style=\"stroke:#000000; stroke-width:4; stroke-opacity:1; fill:none\" points=\"\n",
       "  1843.29,914.906 1843.29,1445.72 1940.59,1445.72 1940.59,914.906 1843.29,914.906 \n",
       "  \"/>\n",
       "<path clip-path=\"url(#clip372)\" d=\"\n",
       "M1940.59 1070.84 L1940.59 1445.72 L2037.89 1445.72 L2037.89 1070.84 L1940.59 1070.84 L1940.59 1070.84  Z\n",
       "  \" fill=\"#009af9\" fill-rule=\"evenodd\" fill-opacity=\"1\"/>\n",
       "<polyline clip-path=\"url(#clip372)\" style=\"stroke:#000000; stroke-width:4; stroke-opacity:1; fill:none\" points=\"\n",
       "  1940.59,1070.84 1940.59,1445.72 2037.89,1445.72 2037.89,1070.84 1940.59,1070.84 \n",
       "  \"/>\n",
       "<path clip-path=\"url(#clip372)\" d=\"\n",
       "M2037.89 1148.02 L2037.89 1445.72 L2135.19 1445.72 L2135.19 1148.02 L2037.89 1148.02 L2037.89 1148.02  Z\n",
       "  \" fill=\"#009af9\" fill-rule=\"evenodd\" fill-opacity=\"1\"/>\n",
       "<polyline clip-path=\"url(#clip372)\" style=\"stroke:#000000; stroke-width:4; stroke-opacity:1; fill:none\" points=\"\n",
       "  2037.89,1148.02 2037.89,1445.72 2135.19,1445.72 2135.19,1148.02 2037.89,1148.02 \n",
       "  \"/>\n",
       "<path clip-path=\"url(#clip372)\" d=\"\n",
       "M2135.19 1234.65 L2135.19 1445.72 L2232.49 1445.72 L2232.49 1234.65 L2135.19 1234.65 L2135.19 1234.65  Z\n",
       "  \" fill=\"#009af9\" fill-rule=\"evenodd\" fill-opacity=\"1\"/>\n",
       "<polyline clip-path=\"url(#clip372)\" style=\"stroke:#000000; stroke-width:4; stroke-opacity:1; fill:none\" points=\"\n",
       "  2135.19,1234.65 2135.19,1445.72 2232.49,1445.72 2232.49,1234.65 2135.19,1234.65 \n",
       "  \"/>\n",
       "<path clip-path=\"url(#clip370)\" d=\"\n",
       "M1985.9 216.178 L2279.87 216.178 L2279.87 95.2176 L1985.9 95.2176  Z\n",
       "  \" fill=\"#ffffff\" fill-rule=\"evenodd\" fill-opacity=\"1\"/>\n",
       "<polyline clip-path=\"url(#clip370)\" style=\"stroke:#000000; stroke-width:4; stroke-opacity:1; fill:none\" points=\"\n",
       "  1985.9,216.178 2279.87,216.178 2279.87,95.2176 1985.9,95.2176 1985.9,216.178 \n",
       "  \"/>\n",
       "<path clip-path=\"url(#clip370)\" d=\"\n",
       "M2010.2 179.89 L2155.97 179.89 L2155.97 131.506 L2010.2 131.506 L2010.2 179.89  Z\n",
       "  \" fill=\"#009af9\" fill-rule=\"evenodd\" fill-opacity=\"1\"/>\n",
       "<polyline clip-path=\"url(#clip370)\" style=\"stroke:#000000; stroke-width:4; stroke-opacity:1; fill:none\" points=\"\n",
       "  2010.2,179.89 2155.97,179.89 2155.97,131.506 2010.2,131.506 2010.2,179.89 \n",
       "  \"/>\n",
       "<path clip-path=\"url(#clip370)\" d=\"M 0 0 M2194.11 175.385 Q2192.3 180.015 2190.59 181.427 Q2188.87 182.839 2186 182.839 L2182.6 182.839 L2182.6 179.274 L2185.1 179.274 Q2186.86 179.274 2187.83 178.44 Q2188.8 177.607 2189.98 174.505 L2190.75 172.561 L2180.26 147.052 L2184.78 147.052 L2192.88 167.329 L2200.98 147.052 L2205.49 147.052 L2194.11 175.385 Z\" fill=\"#000000\" fill-rule=\"evenodd\" fill-opacity=\"1\" /><path clip-path=\"url(#clip370)\" d=\"M 0 0 M2211.37 169.042 L2219.01 169.042 L2219.01 142.677 L2210.7 144.343 L2210.7 140.084 L2218.97 138.418 L2223.64 138.418 L2223.64 169.042 L2231.28 169.042 L2231.28 172.978 L2211.37 172.978 L2211.37 169.042 Z\" fill=\"#000000\" fill-rule=\"evenodd\" fill-opacity=\"1\" /></svg>\n"
      ]
     },
     "execution_count": 7,
     "metadata": {},
     "output_type": "execute_result"
    }
   ],
   "source": [
    "using Distributions\n",
    "itr = 10000 #number of samples required\n",
    "states = Array{Float64}(undef, itr) #generated samples\n",
    "current_proposal = 0.0\n",
    "new_proposal = 0.0\n",
    "\n",
    "\n",
    "\n",
    "prior = Normal(0.0,1.0)\n",
    "\n",
    "proposal = Uniform(-2.0,2.0)\n",
    "current_proposal = rand(proposal)\n",
    "\n",
    "\n",
    "for i in 1:itr\n",
    "\tstates[i] = current_proposal\n",
    "\tnew_proposal = rand(proposal)\n",
    "\tratio = pdf(prior, new_proposal)/pdf(prior, current_proposal)\n",
    "\tacceptance_prob = min(1.0,ratio)\n",
    "\tr = rand(Uniform(0.0,1.0))\n",
    "\tif r < acceptance_prob\n",
    "\t    current_proposal = new_proposal\n",
    "\tend\t\n",
    "end\n",
    "using Plots\n",
    "histogram(states,bins=30)"
   ]
  }
 ],
 "metadata": {
  "kernelspec": {
   "display_name": "Julia 1.5.3",
   "language": "julia",
   "name": "julia-1.5"
  },
  "language_info": {
   "file_extension": ".jl",
   "mimetype": "application/julia",
   "name": "julia",
   "version": "1.5.3"
  }
 },
 "nbformat": 4,
 "nbformat_minor": 2
}
